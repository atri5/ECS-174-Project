{
 "cells": [
  {
   "cell_type": "markdown",
   "metadata": {},
   "source": [
    "# ECS 174: Deep Learning for Lumbar Spine Degenerative Classification\n",
    "Arjun Ashok, Zhian Li, Ayush Tripathi"
   ]
  },
  {
   "cell_type": "markdown",
   "metadata": {},
   "source": [
    "***\n",
    "## Environment Setup"
   ]
  },
  {
   "cell_type": "code",
   "execution_count": null,
   "metadata": {},
   "outputs": [],
   "source": [
    "# internal: all architectures\n",
    "from src.arch.cnn import *\n",
    "from src.arch.mcnn import *\n",
    "from src.arch.unet import *\n",
    "from src.arch.transformer import *\n",
    "from src.arch.kan import *\n",
    "\n",
    "# internal: utils\n",
    "import src.utils as utils\n",
    "\n",
    "# internal: pipeline wrapper\n",
    "from src.pipeline.pipeline import *"
   ]
  },
  {
   "cell_type": "markdown",
   "metadata": {},
   "source": [
    "# Experiment Setup"
   ]
  },
  {
   "cell_type": "markdown",
   "metadata": {},
   "source": [
    "## "
   ]
  },
  {
   "cell_type": "code",
   "execution_count": null,
   "metadata": {},
   "outputs": [],
   "source": [
    "# where is our data stored\n",
    "data_dir = Path().cwd() / \"data\"\n",
    "img_dir = data_dir / \"train_images\""
   ]
  },
  {
   "cell_type": "code",
   "execution_count": null,
   "metadata": {},
   "outputs": [],
   "source": [
    "# what models and parameters do we want to test\n",
    "hyperparameters = load_hyperparams()\n",
    "archs = [CNN, MCNN, UNet, VisionTransformerWithCoordinates, CKAN]\n",
    "descriptions = [\"CNN\", \"MCNN\", \"UNet\", \"VIT\", \"CKAN\"]\n",
    "\n",
    "# store the information we get back\n",
    "metrics = dict()"
   ]
  },
  {
   "cell_type": "code",
   "execution_count": null,
   "metadata": {},
   "outputs": [],
   "source": [
    "# run the pipeline with each\n",
    "for arch in archs:\n",
    "    metrics[arch] = Pipeline(\n",
    "        model_class=arch, hyperparams=hyperparameters,\n",
    "        model_descr=\"baseline_CNN\", image_dir=img_dir, metadata_dir=data_dir\n",
    "    ).pipeline()"
   ]
  }
 ],
 "metadata": {
  "language_info": {
   "name": "python"
  }
 },
 "nbformat": 4,
 "nbformat_minor": 2
}
