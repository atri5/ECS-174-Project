{
 "cells": [
  {
   "cell_type": "markdown",
   "metadata": {},
   "source": [
    "## Test Framework for all Models\n",
    "#### Author: Ayush Tripathi (atripathi7783@gmail.com)"
   ]
  },
  {
   "cell_type": "code",
   "execution_count": 1,
   "metadata": {},
   "outputs": [
    {
     "name": "stdout",
     "output_type": "stream",
     "text": [
      "C:\\Users\\atrip\\Classes\\ECS-174-Project\n"
     ]
    }
   ],
   "source": [
    "#imports\n",
    "import os\n",
    "import time\n",
    "import pydicom\n",
    "from tqdm import tqdm\n",
    "import pandas as pd\n",
    "from PIL import Image\n",
    "import numpy as np\n",
    "from torch.utils.data import Dataset\n",
    "import torch\n",
    "from torch.utils.data import Dataset, DataLoader\n",
    "from torchvision import transforms\n",
    "import logging\n",
    "import sys\n",
    "from pathlib import Path\n",
    "\n",
    "\n",
    "project_root = Path(os.getcwd()).resolve().parents[1]\n",
    "sys.path.append(str(project_root))\n",
    "print(project_root) #should be base file"
   ]
  },
  {
   "cell_type": "markdown",
   "metadata": {},
   "source": [
    "### Dataloading"
   ]
  },
  {
   "cell_type": "code",
   "execution_count": null,
   "metadata": {},
   "outputs": [
    {
     "name": "stdout",
     "output_type": "stream",
     "text": [
      "manual seed: 110\n"
     ]
    },
    {
     "name": "stderr",
     "output_type": "stream",
     "text": [
      "Loading images:   1%|          | 444/48692 [00:01<02:51, 280.89it/s]\n"
     ]
    },
    {
     "ename": "KeyboardInterrupt",
     "evalue": "",
     "output_type": "error",
     "traceback": [
      "\u001b[1;31m---------------------------------------------------------------------------\u001b[0m",
      "\u001b[1;31mKeyboardInterrupt\u001b[0m                         Traceback (most recent call last)",
      "Cell \u001b[1;32mIn[3], line 6\u001b[0m\n\u001b[0;32m      1\u001b[0m \u001b[38;5;124;03m'''\u001b[39;00m\n\u001b[0;32m      2\u001b[0m \u001b[38;5;124;03mGoal: Load and store dataloader as an object for use throughout future models. \u001b[39;00m\n\u001b[0;32m      3\u001b[0m \u001b[38;5;124;03m'''\u001b[39;00m\n\u001b[0;32m      5\u001b[0m \u001b[38;5;66;03m#import the class from the project root\u001b[39;00m\n\u001b[1;32m----> 6\u001b[0m \u001b[38;5;28;01mfrom\u001b[39;00m \u001b[38;5;21;01mdocs\u001b[39;00m\u001b[38;5;21;01m.\u001b[39;00m\u001b[38;5;21;01mpy_data_loading\u001b[39;00m \u001b[38;5;28;01mimport\u001b[39;00m LumbarSpineDataset\n\u001b[0;32m      8\u001b[0m manual_seed \u001b[38;5;241m=\u001b[39m \u001b[38;5;241m110\u001b[39m\n\u001b[0;32m      9\u001b[0m torch\u001b[38;5;241m.\u001b[39mmanual_seed(manual_seed)\n",
      "File \u001b[1;32m~\\Classes\\ECS-174-Project\\docs\\py_data_loading.py:130\u001b[0m\n\u001b[0;32m    124\u001b[0m metadata_dir \u001b[38;5;241m=\u001b[39m \u001b[38;5;124mr\u001b[39m\u001b[38;5;124m\"\u001b[39m\u001b[38;5;124mC:\u001b[39m\u001b[38;5;124m\\\u001b[39m\u001b[38;5;124mUsers\u001b[39m\u001b[38;5;124m\\\u001b[39m\u001b[38;5;124matrip\u001b[39m\u001b[38;5;124m\\\u001b[39m\u001b[38;5;124mClasses\u001b[39m\u001b[38;5;124m\\\u001b[39m\u001b[38;5;124mECS-174-Project\u001b[39m\u001b[38;5;124m\\\u001b[39m\u001b[38;5;124msrc\u001b[39m\u001b[38;5;124m\\\u001b[39m\u001b[38;5;124mdataset\u001b[39m\u001b[38;5;124m\\\u001b[39m\u001b[38;5;124mrsna-2024-lumbar-spine-degenerative-classification\u001b[39m\u001b[38;5;124m\"\u001b[39m \n\u001b[0;32m    125\u001b[0m transform \u001b[38;5;241m=\u001b[39m transforms\u001b[38;5;241m.\u001b[39mCompose([  \n\u001b[0;32m    126\u001b[0m     transforms\u001b[38;5;241m.\u001b[39mResize((\u001b[38;5;241m224\u001b[39m,\u001b[38;5;241m224\u001b[39m)),\n\u001b[0;32m    127\u001b[0m     transforms\u001b[38;5;241m.\u001b[39mToTensor(),\n\u001b[0;32m    128\u001b[0m     transforms\u001b[38;5;241m.\u001b[39mNormalize((\u001b[38;5;241m0.5\u001b[39m), (\u001b[38;5;241m0.5\u001b[39m))])\n\u001b[1;32m--> 130\u001b[0m dataset \u001b[38;5;241m=\u001b[39m \u001b[43mLumbarSpineDataset\u001b[49m\u001b[43m(\u001b[49m\u001b[43mimage_dir\u001b[49m\u001b[38;5;241;43m=\u001b[39;49m\u001b[43mimage_dir\u001b[49m\u001b[43m,\u001b[49m\u001b[43m \u001b[49m\u001b[43mmetadata_dir\u001b[49m\u001b[38;5;241;43m=\u001b[39;49m\u001b[43mmetadata_dir\u001b[49m\u001b[43m,\u001b[49m\u001b[43m \u001b[49m\u001b[43mtransform\u001b[49m\u001b[38;5;241;43m=\u001b[39;49m\u001b[43mtransform\u001b[49m\u001b[43m,\u001b[49m\u001b[43m \u001b[49m\u001b[43mload_fraction\u001b[49m\u001b[38;5;241;43m=\u001b[39;49m\u001b[38;5;241;43m1\u001b[39;49m\u001b[43m)\u001b[49m\n\u001b[0;32m    132\u001b[0m \u001b[38;5;66;03m# Create DataLoader with tqdm for progress bar\u001b[39;00m\n\u001b[0;32m    133\u001b[0m dataloader \u001b[38;5;241m=\u001b[39m DataLoader(dataset, batch_size\u001b[38;5;241m=\u001b[39m\u001b[38;5;241m32\u001b[39m, shuffle\u001b[38;5;241m=\u001b[39m\u001b[38;5;28;01mTrue\u001b[39;00m)\n",
      "File \u001b[1;32m~\\Classes\\ECS-174-Project\\docs\\py_data_loading.py:59\u001b[0m, in \u001b[0;36mLumbarSpineDataset.__init__\u001b[1;34m(self, image_dir, metadata_dir, transform, load_fraction)\u001b[0m\n\u001b[0;32m     56\u001b[0m \u001b[38;5;28mself\u001b[39m\u001b[38;5;241m.\u001b[39mseverity_levels \u001b[38;5;241m=\u001b[39m [\u001b[38;5;124m'\u001b[39m\u001b[38;5;124mL1/L2\u001b[39m\u001b[38;5;124m'\u001b[39m, \u001b[38;5;124m'\u001b[39m\u001b[38;5;124mL2/L3\u001b[39m\u001b[38;5;124m'\u001b[39m, \u001b[38;5;124m'\u001b[39m\u001b[38;5;124mL3/L4\u001b[39m\u001b[38;5;124m'\u001b[39m, \u001b[38;5;124m'\u001b[39m\u001b[38;5;124mL4/L5\u001b[39m\u001b[38;5;124m'\u001b[39m, \u001b[38;5;124m'\u001b[39m\u001b[38;5;124mL5/S1\u001b[39m\u001b[38;5;124m'\u001b[39m]\n\u001b[0;32m     58\u001b[0m \u001b[38;5;66;03m# Load only a fraction of the data for debugging\u001b[39;00m\n\u001b[1;32m---> 59\u001b[0m \u001b[38;5;28mself\u001b[39m\u001b[38;5;241m.\u001b[39mdata \u001b[38;5;241m=\u001b[39m \u001b[38;5;28;43mself\u001b[39;49m\u001b[38;5;241;43m.\u001b[39;49m\u001b[43mload_data\u001b[49m\u001b[43m(\u001b[49m\u001b[43m)\u001b[49m\n",
      "File \u001b[1;32m~\\Classes\\ECS-174-Project\\docs\\py_data_loading.py:85\u001b[0m, in \u001b[0;36mLumbarSpineDataset.load_data\u001b[1;34m(self)\u001b[0m\n\u001b[0;32m     82\u001b[0m img_path \u001b[38;5;241m=\u001b[39m os\u001b[38;5;241m.\u001b[39mpath\u001b[38;5;241m.\u001b[39mjoin(\u001b[38;5;28mself\u001b[39m\u001b[38;5;241m.\u001b[39mimage_dir, \u001b[38;5;124mf\u001b[39m\u001b[38;5;124m\"\u001b[39m\u001b[38;5;132;01m{\u001b[39;00mstudy_id\u001b[38;5;132;01m}\u001b[39;00m\u001b[38;5;124m/\u001b[39m\u001b[38;5;132;01m{\u001b[39;00mseries_id\u001b[38;5;132;01m}\u001b[39;00m\u001b[38;5;124m/\u001b[39m\u001b[38;5;132;01m{\u001b[39;00minstance_number\u001b[38;5;132;01m}\u001b[39;00m\u001b[38;5;124m.dcm\u001b[39m\u001b[38;5;124m\"\u001b[39m)\n\u001b[0;32m     84\u001b[0m dicom_image \u001b[38;5;241m=\u001b[39m pydicom\u001b[38;5;241m.\u001b[39mdcmread(img_path)\n\u001b[1;32m---> 85\u001b[0m image \u001b[38;5;241m=\u001b[39m \u001b[43mdicom_image\u001b[49m\u001b[38;5;241;43m.\u001b[39;49m\u001b[43mpixel_array\u001b[49m\n\u001b[0;32m     86\u001b[0m image \u001b[38;5;241m=\u001b[39m image\u001b[38;5;241m.\u001b[39mastype(np\u001b[38;5;241m.\u001b[39mfloat32) \u001b[38;5;241m/\u001b[39m np\u001b[38;5;241m.\u001b[39mmax(image)\n\u001b[0;32m     87\u001b[0m image \u001b[38;5;241m=\u001b[39m Image\u001b[38;5;241m.\u001b[39mfromarray(image)\n",
      "File \u001b[1;32m~\\AppData\\Local\\Packages\\PythonSoftwareFoundation.Python.3.12_qbz5n2kfra8p0\\LocalCache\\local-packages\\Python312\\site-packages\\pydicom\\dataset.py:2193\u001b[0m, in \u001b[0;36mDataset.pixel_array\u001b[1;34m(self)\u001b[0m\n\u001b[0;32m   2133\u001b[0m \u001b[38;5;129m@property\u001b[39m\n\u001b[0;32m   2134\u001b[0m \u001b[38;5;28;01mdef\u001b[39;00m \u001b[38;5;21mpixel_array\u001b[39m(\u001b[38;5;28mself\u001b[39m) \u001b[38;5;241m-\u001b[39m\u001b[38;5;241m>\u001b[39m \u001b[38;5;124m\"\u001b[39m\u001b[38;5;124mnumpy.ndarray\u001b[39m\u001b[38;5;124m\"\u001b[39m:\n\u001b[0;32m   2135\u001b[0m \u001b[38;5;250m    \u001b[39m\u001b[38;5;124;03m\"\"\"Return the pixel data as a :class:`numpy.ndarray`.\u001b[39;00m\n\u001b[0;32m   2136\u001b[0m \n\u001b[0;32m   2137\u001b[0m \u001b[38;5;124;03m    .. warning::\u001b[39;00m\n\u001b[1;32m   (...)\u001b[0m\n\u001b[0;32m   2191\u001b[0m \u001b[38;5;124;03m        that iterates through the image frames.\u001b[39;00m\n\u001b[0;32m   2192\u001b[0m \u001b[38;5;124;03m    \"\"\"\u001b[39;00m\n\u001b[1;32m-> 2193\u001b[0m     \u001b[38;5;28;43mself\u001b[39;49m\u001b[38;5;241;43m.\u001b[39;49m\u001b[43mconvert_pixel_data\u001b[49m\u001b[43m(\u001b[49m\u001b[43m)\u001b[49m\n\u001b[0;32m   2194\u001b[0m     \u001b[38;5;28;01mreturn\u001b[39;00m cast(\u001b[38;5;124m\"\u001b[39m\u001b[38;5;124mnumpy.ndarray\u001b[39m\u001b[38;5;124m\"\u001b[39m, \u001b[38;5;28mself\u001b[39m\u001b[38;5;241m.\u001b[39m_pixel_array)\n",
      "File \u001b[1;32m~\\AppData\\Local\\Packages\\PythonSoftwareFoundation.Python.3.12_qbz5n2kfra8p0\\LocalCache\\local-packages\\Python312\\site-packages\\pydicom\\dataset.py:1726\u001b[0m, in \u001b[0;36mDataset.convert_pixel_data\u001b[1;34m(self, handler_name)\u001b[0m\n\u001b[0;32m   1723\u001b[0m \u001b[38;5;28;01mif\u001b[39;00m \u001b[38;5;129;01mnot\u001b[39;00m opts[\u001b[38;5;124m\"\u001b[39m\u001b[38;5;124muse_pdh\u001b[39m\u001b[38;5;124m\"\u001b[39m]:\n\u001b[0;32m   1724\u001b[0m     \u001b[38;5;66;03m# Use 'pydicom.pixels' backend\u001b[39;00m\n\u001b[0;32m   1725\u001b[0m     opts[\u001b[38;5;124m\"\u001b[39m\u001b[38;5;124mdecoding_plugin\u001b[39m\u001b[38;5;124m\"\u001b[39m] \u001b[38;5;241m=\u001b[39m name\n\u001b[1;32m-> 1726\u001b[0m     \u001b[38;5;28mself\u001b[39m\u001b[38;5;241m.\u001b[39m_pixel_array \u001b[38;5;241m=\u001b[39m \u001b[43mpixel_array\u001b[49m\u001b[43m(\u001b[49m\u001b[38;5;28;43mself\u001b[39;49m\u001b[43m,\u001b[49m\u001b[43m \u001b[49m\u001b[38;5;241;43m*\u001b[39;49m\u001b[38;5;241;43m*\u001b[39;49m\u001b[43mopts\u001b[49m\u001b[43m)\u001b[49m\n\u001b[0;32m   1727\u001b[0m     \u001b[38;5;28mself\u001b[39m\u001b[38;5;241m.\u001b[39m_pixel_id \u001b[38;5;241m=\u001b[39m get_image_pixel_ids(\u001b[38;5;28mself\u001b[39m)\n\u001b[0;32m   1728\u001b[0m \u001b[38;5;28;01melse\u001b[39;00m:\n\u001b[0;32m   1729\u001b[0m     \u001b[38;5;66;03m# Use 'pydicom.pixel_data_handlers' backend\u001b[39;00m\n",
      "File \u001b[1;32m~\\AppData\\Local\\Packages\\PythonSoftwareFoundation.Python.3.12_qbz5n2kfra8p0\\LocalCache\\local-packages\\Python312\\site-packages\\pydicom\\pixels\\utils.py:1430\u001b[0m, in \u001b[0;36mpixel_array\u001b[1;34m(src, ds_out, specific_tags, index, raw, decoding_plugin, **kwargs)\u001b[0m\n\u001b[0;32m   1424\u001b[0m         \u001b[38;5;28;01mraise\u001b[39;00m \u001b[38;5;167;01mNotImplementedError\u001b[39;00m(\n\u001b[0;32m   1425\u001b[0m             \u001b[38;5;124m\"\u001b[39m\u001b[38;5;124mUnable to decode the pixel data as a (0002,0010) \u001b[39m\u001b[38;5;124m'\u001b[39m\u001b[38;5;124mTransfer Syntax \u001b[39m\u001b[38;5;124m\"\u001b[39m\n\u001b[0;32m   1426\u001b[0m             \u001b[38;5;124mf\u001b[39m\u001b[38;5;124m\"\u001b[39m\u001b[38;5;124mUID\u001b[39m\u001b[38;5;124m'\u001b[39m\u001b[38;5;124m value of \u001b[39m\u001b[38;5;124m'\u001b[39m\u001b[38;5;132;01m{\u001b[39;00mtsyntax\u001b[38;5;241m.\u001b[39mname\u001b[38;5;132;01m}\u001b[39;00m\u001b[38;5;124m'\u001b[39m\u001b[38;5;124m is not supported\u001b[39m\u001b[38;5;124m\"\u001b[39m\n\u001b[0;32m   1427\u001b[0m         )\n\u001b[0;32m   1429\u001b[0m     opts \u001b[38;5;241m=\u001b[39m as_pixel_options(ds, \u001b[38;5;241m*\u001b[39m\u001b[38;5;241m*\u001b[39mkwargs)\n\u001b[1;32m-> 1430\u001b[0m     \u001b[38;5;28;01mreturn\u001b[39;00m \u001b[43mdecoder\u001b[49m\u001b[38;5;241;43m.\u001b[39;49m\u001b[43mas_array\u001b[49m\u001b[43m(\u001b[49m\n\u001b[0;32m   1431\u001b[0m \u001b[43m        \u001b[49m\u001b[43mds\u001b[49m\u001b[43m,\u001b[49m\n\u001b[0;32m   1432\u001b[0m \u001b[43m        \u001b[49m\u001b[43mindex\u001b[49m\u001b[38;5;241;43m=\u001b[39;49m\u001b[43mindex\u001b[49m\u001b[43m,\u001b[49m\n\u001b[0;32m   1433\u001b[0m \u001b[43m        \u001b[49m\u001b[43mvalidate\u001b[49m\u001b[38;5;241;43m=\u001b[39;49m\u001b[38;5;28;43;01mTrue\u001b[39;49;00m\u001b[43m,\u001b[49m\n\u001b[0;32m   1434\u001b[0m \u001b[43m        \u001b[49m\u001b[43mraw\u001b[49m\u001b[38;5;241;43m=\u001b[39;49m\u001b[43mraw\u001b[49m\u001b[43m,\u001b[49m\n\u001b[0;32m   1435\u001b[0m \u001b[43m        \u001b[49m\u001b[43mdecoding_plugin\u001b[49m\u001b[38;5;241;43m=\u001b[39;49m\u001b[43mdecoding_plugin\u001b[49m\u001b[43m,\u001b[49m\n\u001b[0;32m   1436\u001b[0m \u001b[43m        \u001b[49m\u001b[38;5;241;43m*\u001b[39;49m\u001b[38;5;241;43m*\u001b[39;49m\u001b[43mopts\u001b[49m\u001b[43m,\u001b[49m\n\u001b[0;32m   1437\u001b[0m \u001b[43m    \u001b[49m\u001b[43m)\u001b[49m[\u001b[38;5;241m0\u001b[39m]\n\u001b[0;32m   1439\u001b[0m f: BinaryIO\n\u001b[0;32m   1440\u001b[0m \u001b[38;5;28;01mif\u001b[39;00m \u001b[38;5;129;01mnot\u001b[39;00m \u001b[38;5;28mhasattr\u001b[39m(src, \u001b[38;5;124m\"\u001b[39m\u001b[38;5;124mread\u001b[39m\u001b[38;5;124m\"\u001b[39m):\n",
      "File \u001b[1;32m~\\AppData\\Local\\Packages\\PythonSoftwareFoundation.Python.3.12_qbz5n2kfra8p0\\LocalCache\\local-packages\\Python312\\site-packages\\pydicom\\pixels\\decoders\\base.py:1000\u001b[0m, in \u001b[0;36mDecoder.as_array\u001b[1;34m(self, src, index, validate, raw, decoding_plugin, **kwargs)\u001b[0m\n\u001b[0;32m    997\u001b[0m     as_writeable \u001b[38;5;241m=\u001b[39m \u001b[38;5;28;01mTrue\u001b[39;00m\n\u001b[0;32m    999\u001b[0m as_frame \u001b[38;5;241m=\u001b[39m index \u001b[38;5;129;01mis\u001b[39;00m \u001b[38;5;129;01mnot\u001b[39;00m \u001b[38;5;28;01mNone\u001b[39;00m\n\u001b[1;32m-> 1000\u001b[0m arr \u001b[38;5;241m=\u001b[39m runner\u001b[38;5;241m.\u001b[39mreshape(\u001b[43mfunc\u001b[49m\u001b[43m(\u001b[49m\u001b[43mrunner\u001b[49m\u001b[43m,\u001b[49m\u001b[43m \u001b[49m\u001b[43mindex\u001b[49m\u001b[43m)\u001b[49m, as_frame\u001b[38;5;241m=\u001b[39mas_frame)\n\u001b[0;32m   1002\u001b[0m \u001b[38;5;28;01mif\u001b[39;00m runner\u001b[38;5;241m.\u001b[39m_test_for(\u001b[38;5;124m\"\u001b[39m\u001b[38;5;124msign_correction\u001b[39m\u001b[38;5;124m\"\u001b[39m):\n\u001b[0;32m   1003\u001b[0m     arr \u001b[38;5;241m=\u001b[39m _apply_sign_correction(arr, runner)\n",
      "File \u001b[1;32m~\\AppData\\Local\\Packages\\PythonSoftwareFoundation.Python.3.12_qbz5n2kfra8p0\\LocalCache\\local-packages\\Python312\\site-packages\\pydicom\\pixels\\decoders\\base.py:1069\u001b[0m, in \u001b[0;36mDecoder._as_array_encapsulated\u001b[1;34m(runner, index)\u001b[0m\n\u001b[0;32m   1067\u001b[0m     frame \u001b[38;5;241m=\u001b[39m \u001b[38;5;28mnext\u001b[39m(frame_generator)\n\u001b[0;32m   1068\u001b[0m     start \u001b[38;5;241m=\u001b[39m idx \u001b[38;5;241m*\u001b[39m pixels_per_frame\n\u001b[1;32m-> 1069\u001b[0m     arr[start : start \u001b[38;5;241m+\u001b[39m pixels_per_frame] \u001b[38;5;241m=\u001b[39m np\u001b[38;5;241m.\u001b[39mfrombuffer(\n\u001b[0;32m   1070\u001b[0m         frame, dtype\u001b[38;5;241m=\u001b[39mrunner\u001b[38;5;241m.\u001b[39mpixel_dtype\n\u001b[0;32m   1071\u001b[0m     )\n\u001b[0;32m   1073\u001b[0m \u001b[38;5;66;03m# Check to see if we have any more frames available\u001b[39;00m\n\u001b[0;32m   1074\u001b[0m \u001b[38;5;66;03m#   Should only apply to JPEG transfer syntaxes\u001b[39;00m\n\u001b[0;32m   1075\u001b[0m \u001b[38;5;28;01mif\u001b[39;00m runner\u001b[38;5;241m.\u001b[39mget_option(\u001b[38;5;124m\"\u001b[39m\u001b[38;5;124mallow_excess_frames\u001b[39m\u001b[38;5;124m\"\u001b[39m, \u001b[38;5;28;01mFalse\u001b[39;00m):\n",
      "\u001b[1;31mKeyboardInterrupt\u001b[0m: "
     ]
    }
   ],
   "source": [
    "'''\n",
    "Goal: Load and store dataloader as an object for use throughout future models. \n",
    "'''\n",
    "\n",
    "#import the class from the project root\n",
    "from src.etl.data_loading import LumbarSpineDataset\n",
    "\n",
    "manual_seed = 110\n",
    "torch.manual_seed(manual_seed)\n",
    "print(f\"manual seed: {manual_seed}\")\n",
    "# Initialize the dataset\n",
    "image_dir = r\"C:\\Users\\atrip\\Classes\\ECS-174-Project\\src\\dataset\\rsna-2024-lumbar-spine-degenerative-classification\\train_images\"\n",
    "metadata_dir = r\"C:\\Users\\atrip\\Classes\\ECS-174-Project\\src\\dataset\\rsna-2024-lumbar-spine-degenerative-classification\" \n",
    "transform = transforms.Compose([  \n",
    "    transforms.Resize((224,224)),\n",
    "    transforms.ToTensor(),\n",
    "    transforms.Normalize((0.5), (0.5))])\n",
    "\n",
    "dataset = LumbarSpineDataset(image_dir=image_dir, metadata_dir=metadata_dir, transform=transform, load_fraction=1)\n",
    "\n",
    "# Create DataLoader with tqdm for progress bar\n",
    "dataloader = DataLoader(dataset, batch_size=32, shuffle=True)"
   ]
  },
  {
   "cell_type": "markdown",
   "metadata": {},
   "source": [
    "### Load Model "
   ]
  },
  {
   "cell_type": "code",
   "execution_count": null,
   "metadata": {},
   "outputs": [
    {
     "name": "stdout",
     "output_type": "stream",
     "text": [
      "tensor([[[[-0.2766, -0.3923,  0.4404,  ..., -0.1394, -0.1185, -0.2920],\n",
      "          [-0.1991, -0.1440, -0.0740,  ..., -0.2165,  0.1650, -0.3053],\n",
      "          [ 0.2327, -0.3668,  0.4019,  ...,  0.3188, -0.0732, -0.0957],\n",
      "          ...,\n",
      "          [ 0.0899,  0.2020,  0.1553,  ..., -0.2785, -0.3658, -0.3978],\n",
      "          [-0.0140, -0.3717,  0.3657,  ..., -0.2634, -0.3188, -0.0986],\n",
      "          [-0.1778, -0.1772,  0.0589,  ...,  0.0316, -0.2206, -0.3987]],\n",
      "\n",
      "         [[-0.1312, -0.4847, -0.2530,  ..., -0.0217, -0.3034, -0.1832],\n",
      "          [-0.3285, -0.6494, -0.0032,  ..., -0.2336, -0.7965, -0.3267],\n",
      "          [-0.5735,  0.0722, -0.0109,  ..., -0.4004, -0.6150, -0.0697],\n",
      "          ...,\n",
      "          [-0.4727, -0.5641, -0.3501,  ..., -0.6341, -0.3996, -0.5544],\n",
      "          [-0.8073, -0.2831, -0.4791,  ..., -0.2603, -0.4110,  0.1284],\n",
      "          [-0.4233, -0.1227, -0.5186,  ..., -0.1678, -0.1815, -0.2103]],\n",
      "\n",
      "         [[ 0.0806,  0.3720, -0.2275,  ...,  0.1129,  0.1748,  0.0709],\n",
      "          [ 0.3648, -0.0810,  0.1784,  ...,  0.1319,  0.3398,  0.2163],\n",
      "          [ 0.3638,  0.4130,  0.2375,  ...,  0.2460,  0.3943,  0.2939],\n",
      "          ...,\n",
      "          [ 0.2511, -0.1583, -0.4155,  ...,  0.4976, -0.1520, -0.1132],\n",
      "          [ 0.2300,  0.1805, -0.1797,  ...,  0.1045, -0.2246, -0.0452],\n",
      "          [ 0.4619,  0.0171, -0.2111,  ...,  0.0444,  0.1514, -0.0118]],\n",
      "\n",
      "         ...,\n",
      "\n",
      "         [[-0.1678, -0.2504,  0.1491,  ..., -0.1188,  0.3087, -0.1182],\n",
      "          [-0.2796, -0.5925, -0.0345,  ..., -0.6360, -0.1077, -0.0733],\n",
      "          [-0.2377, -0.2452, -0.4075,  ...,  0.2248,  0.1363,  0.1869],\n",
      "          ...,\n",
      "          [-0.1466, -0.3314, -0.3444,  ..., -0.1692, -0.3237, -0.3383],\n",
      "          [ 0.0378, -0.2375,  0.2271,  ..., -0.1588,  0.2426, -0.1869],\n",
      "          [-0.4667,  0.3337, -0.0243,  ..., -0.1645, -0.0115, -0.0479]],\n",
      "\n",
      "         [[-0.3274, -0.4338, -0.5562,  ..., -0.0839, -0.1379, -0.2694],\n",
      "          [-0.0498, -0.2385,  0.0547,  ...,  0.0020, -0.2035,  0.1228],\n",
      "          [-0.9206,  0.1112, -0.0246,  ..., -0.0593,  0.4085,  0.6021],\n",
      "          ...,\n",
      "          [-0.2931, -0.4666, -0.3045,  ..., -0.4926, -0.0088, -0.2507],\n",
      "          [ 0.0109, -0.6975, -0.2354,  ..., -0.1811, -0.1987, -0.0135],\n",
      "          [-0.3043,  0.0701, -0.1535,  ..., -0.0786, -0.1254,  0.0150]],\n",
      "\n",
      "         [[ 0.1102, -0.0502,  0.6598,  ...,  0.0805,  0.7448,  0.1757],\n",
      "          [-0.0654, -0.2609,  0.2382,  ..., -0.0586,  0.4139, -0.1258],\n",
      "          [ 0.1920, -0.0061,  0.4932,  ...,  0.0178,  0.9366,  0.5148],\n",
      "          ...,\n",
      "          [-0.1570, -0.5452,  0.3910,  ..., -0.1969, -0.2718,  0.2558],\n",
      "          [ 0.3102, -0.3197,  0.0998,  ...,  0.3402,  0.3254,  0.2522],\n",
      "          [ 0.4617,  0.5492,  0.0715,  ...,  0.2422,  0.3620,  0.4871]]]],\n",
      "       grad_fn=<ConvolutionBackward0>)\n"
     ]
    }
   ],
   "source": [
    "from src.arch.unet import *  #change depending on model used\n",
    "# from src.arch.cnn import *\n",
    "\n",
    "#define params\n",
    "NUM_INPUT_CHANNELS = 3  \n",
    "NUM_OUTPUT_CLASSES = 10\n",
    "\n",
    "#initialize\n",
    "model = UNet(NUM_INPUT_CHANNELS, NUM_OUTPUT_CLASSES)\n",
    "\n",
    "#test with random shape\n",
    "example_input = torch.randn(1, NUM_INPUT_CHANNELS, 512, 512)  # Batch size 1, RGB image of 224x224\n",
    "output = model(example_input)\n",
    "print(output)\n"
   ]
  }
 ],
 "metadata": {
  "kernelspec": {
   "display_name": "Python 3",
   "language": "python",
   "name": "python3"
  },
  "language_info": {
   "codemirror_mode": {
    "name": "ipython",
    "version": 3
   },
   "file_extension": ".py",
   "mimetype": "text/x-python",
   "name": "python",
   "nbconvert_exporter": "python",
   "pygments_lexer": "ipython3",
   "version": "3.12.8"
  }
 },
 "nbformat": 4,
 "nbformat_minor": 2
}
