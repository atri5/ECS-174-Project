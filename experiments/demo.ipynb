{
 "cells": [
  {
   "cell_type": "markdown",
   "metadata": {},
   "source": [
    "# ECS 174: Deep Learning for Lumbar Spine Degenerative Classification\n",
    "Arjun Ashok, Zhian Li, Ayush Tripathi"
   ]
  },
  {
   "cell_type": "markdown",
   "metadata": {},
   "source": [
    "***\n",
    "## Environment Setup"
   ]
  },
  {
   "cell_type": "code",
   "execution_count": 12,
   "metadata": {},
   "outputs": [
    {
     "name": "stdout",
     "output_type": "stream",
     "text": [
      "/home/arjun/ucdavis-courses/ecs-174/project/src\n",
      "['/home/arjun/anaconda3/lib/python311.zip', '/home/arjun/anaconda3/lib/python3.11', '/home/arjun/anaconda3/lib/python3.11/lib-dynload', '', '/home/arjun/anaconda3/lib/python3.11/site-packages', PosixPath('/home/arjun/ucdavis-courses/ecs-174/project/src'), PosixPath('/home/arjun/ucdavis-courses/ecs-174/project'), PosixPath('/home/arjun/ucdavis-courses/ecs-174/project/src')]\n"
     ]
    },
    {
     "ename": "ModuleNotFoundError",
     "evalue": "No module named 'src'",
     "output_type": "error",
     "traceback": [
      "\u001b[0;31m---------------------------------------------------------------------------\u001b[0m",
      "\u001b[0;31mModuleNotFoundError\u001b[0m                       Traceback (most recent call last)",
      "Cell \u001b[0;32mIn[12], line 12\u001b[0m\n\u001b[1;32m      9\u001b[0m     sys\u001b[38;5;241m.\u001b[39mpath\u001b[38;5;241m.\u001b[39mappend(module_path)\n\u001b[1;32m     11\u001b[0m \u001b[38;5;66;03m# internal: all architectures\u001b[39;00m\n\u001b[0;32m---> 12\u001b[0m \u001b[38;5;28;01mimport\u001b[39;00m \u001b[38;5;21;01msrc\u001b[39;00m\n\u001b[1;32m     13\u001b[0m \u001b[38;5;28;01mfrom\u001b[39;00m \u001b[38;5;21;01msrc\u001b[39;00m\u001b[38;5;21;01m.\u001b[39;00m\u001b[38;5;21;01march\u001b[39;00m\u001b[38;5;21;01m.\u001b[39;00m\u001b[38;5;21;01mcnn\u001b[39;00m \u001b[38;5;28;01mimport\u001b[39;00m \u001b[38;5;241m*\u001b[39m\n\u001b[1;32m     14\u001b[0m \u001b[38;5;28;01mfrom\u001b[39;00m \u001b[38;5;21;01msrc\u001b[39;00m\u001b[38;5;21;01m.\u001b[39;00m\u001b[38;5;21;01march\u001b[39;00m\u001b[38;5;21;01m.\u001b[39;00m\u001b[38;5;21;01mmcnn\u001b[39;00m \u001b[38;5;28;01mimport\u001b[39;00m \u001b[38;5;241m*\u001b[39m\n",
      "\u001b[0;31mModuleNotFoundError\u001b[0m: No module named 'src'"
     ]
    }
   ],
   "source": [
    "# import module\n",
    "import sys\n",
    "from pathlib import Path\n",
    "\n",
    "module_path = Path().cwd().parent.absolute() / \"src\"\n",
    "print(module_path)\n",
    "print(sys.path)\n",
    "if module_path not in sys.path:\n",
    "    sys.path.append(module_path)\n",
    "\n",
    "# internal: all architectures\n",
    "import src\n",
    "from src.arch.cnn import *\n",
    "from src.arch.mcnn import *\n",
    "from src.arch.unet import *\n",
    "from src.arch.transformer import *\n",
    "from src.arch.kan import *\n",
    "\n",
    "# internal: utils\n",
    "import src.utils as utils\n",
    "\n",
    "# internal: pipeline wrapper\n",
    "from src.pipeline.pipeline import *"
   ]
  },
  {
   "cell_type": "markdown",
   "metadata": {},
   "source": [
    "# Experiment Setup"
   ]
  },
  {
   "cell_type": "markdown",
   "metadata": {},
   "source": [
    "## "
   ]
  },
  {
   "cell_type": "code",
   "execution_count": null,
   "metadata": {},
   "outputs": [],
   "source": [
    "# where is our data stored\n",
    "data_dir = Path().cwd() / \"data\"\n",
    "img_dir = data_dir / \"train_images\""
   ]
  },
  {
   "cell_type": "code",
   "execution_count": null,
   "metadata": {},
   "outputs": [],
   "source": [
    "# what models and parameters do we want to test\n",
    "hyperparameters = load_hyperparams()\n",
    "archs = [CNN, MCNN, UNet, VisionTransformerWithCoordinates, CKAN]\n",
    "descriptions = [\"CNN\", \"MCNN\", \"UNet\", \"VIT\", \"CKAN\"]\n",
    "\n",
    "# store the information we get back\n",
    "metrics = dict()"
   ]
  },
  {
   "cell_type": "code",
   "execution_count": null,
   "metadata": {},
   "outputs": [],
   "source": [
    "# run the pipeline with each\n",
    "for arch in archs:\n",
    "    metrics[arch] = Pipeline(\n",
    "        model_class=arch, hyperparams=hyperparameters,\n",
    "        model_descr=\"baseline_CNN\", image_dir=img_dir, metadata_dir=data_dir\n",
    "    ).pipeline()"
   ]
  }
 ],
 "metadata": {
  "kernelspec": {
   "display_name": "base",
   "language": "python",
   "name": "python3"
  },
  "language_info": {
   "codemirror_mode": {
    "name": "ipython",
    "version": 3
   },
   "file_extension": ".py",
   "mimetype": "text/x-python",
   "name": "python",
   "nbconvert_exporter": "python",
   "pygments_lexer": "ipython3",
   "version": "3.11.5"
  }
 },
 "nbformat": 4,
 "nbformat_minor": 2
}
